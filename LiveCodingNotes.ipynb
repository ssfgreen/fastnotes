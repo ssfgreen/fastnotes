{
 "cells": [
  {
   "cell_type": "markdown",
   "metadata": {},
   "source": [
    "`!!` in bash just refers to the previous command\n",
    "\n",
    "Paperspace has a folder called `/storage` where we really want to install libraries too\n",
    "\n",
    "`/datasets` are there that are used by fastai which is nice\n",
    "\n",
    "Easier to install with `pip` in paperspace.\n",
    "\n",
    "`pip` is better to install just python code. `conda` is better to install things that have compiled code - like CUDA / PyTorch.\n",
    "\n",
    "`pip -U --user fastcore` would install into the user folder. I.e - as we can't save stuff into the user directlty."
   ]
  },
  {
   "cell_type": "code",
   "execution_count": 1,
   "metadata": {},
   "outputs": [
    {
     "data": {
      "text/plain": [
       "'1.5.27'"
      ]
     },
     "execution_count": 1,
     "metadata": {},
     "output_type": "execute_result"
    }
   ],
   "source": [
    "# To see your version\n",
    "import fastcore\n",
    "fastcore.__version__"
   ]
  },
  {
   "cell_type": "markdown",
   "metadata": {},
   "source": [
    "`ls .local`  gives you the path to your local folder\n",
    "`ls .local/lib` give you the path to your local lib folder\n",
    "\n",
    "`mv .local /storage/` moves the local folder to the storage folder\n",
    "But we need this to be in the actual local folder...\n",
    "\n",
    "`ln -s /storage/.local` creates a symbolic link to the local folder in the storage folder (similar to mac alias)\n",
    "\n",
    "Need to make sure that whenever we create a new paperspace instance it creates the symlinks.\n",
    "\n",
    "We need to setup a bashfile that runs whenever we create a new computer paperspace\n",
    "\n"
   ]
  },
  {
   "cell_type": "markdown",
   "metadata": {},
   "source": []
  }
 ],
 "metadata": {
  "kernelspec": {
   "display_name": "Python 3.10.4",
   "language": "python",
   "name": "python3"
  },
  "language_info": {
   "codemirror_mode": {
    "name": "ipython",
    "version": 3
   },
   "file_extension": ".py",
   "mimetype": "text/x-python",
   "name": "python",
   "nbconvert_exporter": "python",
   "pygments_lexer": "ipython3",
   "version": "3.10.4"
  },
  "orig_nbformat": 4,
  "vscode": {
   "interpreter": {
    "hash": "9e41f1983ec51dcf40454f7544d4dc5a7101bb61e2fe7f3d12f1736866581132"
   }
  }
 },
 "nbformat": 4,
 "nbformat_minor": 2
}
