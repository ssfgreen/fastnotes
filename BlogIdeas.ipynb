{
 "cells": [
  {
   "cell_type": "markdown",
   "metadata": {},
   "source": [
    "# Blogging\n",
    "It's important to Blog about things to cement learning, but also to demonstrate that learning is happening\n",
    "\n",
    "## Ideas\n",
    "- Why do versions matter so much: Python 9.13 vs 9.10 / Node 10.9 vs. 16.17 etc -> getting your environment set up correctly\n",
    "- Fast.ai ML lecture - Mocking up Gradient Descent\n",
    "- From Excel to Python -> The titanic dataset and the importance of formatting your data for ML\n",
    "- Validation sets and key tips\n",
    "- Prompt Generation for Summarising Podcast Utteracnces"
   ]
  },
  {
   "cell_type": "code",
   "execution_count": null,
   "metadata": {},
   "outputs": [],
   "source": []
  },
  {
   "cell_type": "markdown",
   "metadata": {},
   "source": []
  }
 ],
 "metadata": {
  "kernelspec": {
   "display_name": "Python 3.9.13 ('ml')",
   "language": "python",
   "name": "python3"
  },
  "language_info": {
   "name": "python",
   "version": "3.9.13"
  },
  "orig_nbformat": 4,
  "vscode": {
   "interpreter": {
    "hash": "99cb0714449b132c81c4e3c1dec23510d711bb574e8156f09d85371409f44164"
   }
  }
 },
 "nbformat": 4,
 "nbformat_minor": 2
}
